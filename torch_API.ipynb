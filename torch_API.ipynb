{
 "cells": [
  {
   "cell_type": "markdown",
   "metadata": {},
   "source": [
    "* Reference\n",
    "    - http://pytorch.org/docs/torch.html"
   ]
  },
  {
   "cell_type": "code",
   "execution_count": 1,
   "metadata": {
    "collapsed": true
   },
   "outputs": [],
   "source": [
    "import torch\n",
    "import numpy as np"
   ]
  },
  {
   "cell_type": "markdown",
   "metadata": {},
   "source": [
    "## PyTorch supports 4 classes for data storage\n",
    "\n",
    "### Two classes you use\n",
    "- `torch.Tensor`\n",
    "- `torch.autograd.Variable` (for automatic gradient flow; whose `__init__` requires `torch.Tensor`)\n",
    "\n",
    "### Two classes used less frequently\n",
    "- `torch.Storage` (data of `torch.Tensor`'s data is actually stored at torch.)\n",
    "- `torch.sparse.Tensor` (for sparse tensors)\n",
    "\n",
    "### TL;DL\n",
    "- `torch.autograd.Variable` refers to `torch.Tensor` which refers to `torch.Storage`, but `torch.Storage` is not used alone."
   ]
  },
  {
   "cell_type": "code",
   "execution_count": 2,
   "metadata": {
    "scrolled": true
   },
   "outputs": [
    {
     "name": "stdout",
     "output_type": "stream",
     "text": [
      "\n",
      " 0.0000e+00 -8.5899e+09\n",
      "[torch.FloatTensor of size 1x2]\n",
      "\n"
     ]
    }
   ],
   "source": [
    "a = torch.Tensor(1, 2)\n",
    "print(a)"
   ]
  },
  {
   "cell_type": "code",
   "execution_count": 3,
   "metadata": {
    "scrolled": true
   },
   "outputs": [
    {
     "data": {
      "text/plain": [
       " 0.0\n",
       " -8589934592.0\n",
       "[torch.FloatStorage of size 2]"
      ]
     },
     "execution_count": 3,
     "metadata": {},
     "output_type": "execute_result"
    }
   ],
   "source": [
    "a.storage()"
   ]
  },
  {
   "cell_type": "code",
   "execution_count": 4,
   "metadata": {},
   "outputs": [
    {
     "data": {
      "text/plain": [
       "\n",
       " 0.0000e+00 -8.5899e+09\n",
       "[torch.FloatTensor of size 1x2]"
      ]
     },
     "execution_count": 4,
     "metadata": {},
     "output_type": "execute_result"
    }
   ],
   "source": [
    "torch.autograd.Variable(a).data"
   ]
  },
  {
   "cell_type": "code",
   "execution_count": 5,
   "metadata": {},
   "outputs": [
    {
     "data": {
      "text/plain": [
       " 0.0\n",
       " -8589934592.0\n",
       "[torch.FloatStorage of size 2]"
      ]
     },
     "execution_count": 5,
     "metadata": {},
     "output_type": "execute_result"
    }
   ],
   "source": [
    "torch.autograd.Variable(a).data.storage()"
   ]
  },
  {
   "cell_type": "markdown",
   "metadata": {},
   "source": [
    "### torch.Tensor"
   ]
  },
  {
   "cell_type": "code",
   "execution_count": 6,
   "metadata": {
    "scrolled": true
   },
   "outputs": [
    {
     "name": "stdout",
     "output_type": "stream",
     "text": [
      "\n",
      " 0.0000e+00 -8.5899e+09  0.0000e+00 -8.5899e+09\n",
      " 5.6052e-45  9.8091e-45  2.7433e-33  1.4013e-45\n",
      " 0.0000e+00  0.0000e+00  0.0000e+00  0.0000e+00\n",
      "[torch.FloatTensor of size 3x4]\n",
      "\n"
     ]
    }
   ],
   "source": [
    "# *args: shape\n",
    "a = torch.Tensor(3, 4)\n",
    "print(a)"
   ]
  },
  {
   "cell_type": "markdown",
   "metadata": {},
   "source": [
    "### torch.Storage"
   ]
  },
  {
   "cell_type": "code",
   "execution_count": 7,
   "metadata": {},
   "outputs": [
    {
     "data": {
      "text/plain": [
       " 0.0\n",
       " -8589934592.0\n",
       " 5.800987024091292e+33\n",
       "[torch.FloatStorage of size 3]"
      ]
     },
     "execution_count": 7,
     "metadata": {},
     "output_type": "execute_result"
    }
   ],
   "source": [
    "b = torch.Storage(3)\n",
    "b"
   ]
  },
  {
   "cell_type": "code",
   "execution_count": 8,
   "metadata": {
    "scrolled": false
   },
   "outputs": [
    {
     "data": {
      "text/plain": [
       "200"
      ]
     },
     "execution_count": 8,
     "metadata": {},
     "output_type": "execute_result"
    }
   ],
   "source": [
    "len(torch.__dict__)"
   ]
  },
  {
   "cell_type": "markdown",
   "metadata": {},
   "source": [
    "### torch.is_tensor"
   ]
  },
  {
   "cell_type": "code",
   "execution_count": 9,
   "metadata": {},
   "outputs": [
    {
     "data": {
      "text/plain": [
       "True"
      ]
     },
     "execution_count": 9,
     "metadata": {},
     "output_type": "execute_result"
    }
   ],
   "source": [
    "torch.is_tensor(a)"
   ]
  },
  {
   "cell_type": "code",
   "execution_count": 10,
   "metadata": {},
   "outputs": [
    {
     "data": {
      "text/plain": [
       "False"
      ]
     },
     "execution_count": 10,
     "metadata": {},
     "output_type": "execute_result"
    }
   ],
   "source": [
    "torch.is_storage(a)"
   ]
  },
  {
   "cell_type": "code",
   "execution_count": 11,
   "metadata": {},
   "outputs": [
    {
     "data": {
      "text/plain": [
       "True"
      ]
     },
     "execution_count": 11,
     "metadata": {},
     "output_type": "execute_result"
    }
   ],
   "source": [
    "torch.is_storage(b)"
   ]
  },
  {
   "cell_type": "markdown",
   "metadata": {},
   "source": [
    "# Creation ops"
   ]
  },
  {
   "cell_type": "code",
   "execution_count": 12,
   "metadata": {
    "scrolled": true
   },
   "outputs": [
    {
     "data": {
      "text/plain": [
       "\n",
       " 3\n",
       " 4\n",
       "[torch.LongTensor of size 2]"
      ]
     },
     "execution_count": 12,
     "metadata": {},
     "output_type": "execute_result"
    }
   ],
   "source": [
    "torch.from_numpy(\n",
    "    np.array([3,4]))"
   ]
  },
  {
   "cell_type": "code",
   "execution_count": 13,
   "metadata": {
    "scrolled": true
   },
   "outputs": [
    {
     "data": {
      "text/plain": [
       "\n",
       " 3\n",
       " 4\n",
       "[torch.FloatTensor of size 2]"
      ]
     },
     "execution_count": 13,
     "metadata": {},
     "output_type": "execute_result"
    }
   ],
   "source": [
    "torch.Tensor([3, 4])"
   ]
  },
  {
   "cell_type": "markdown",
   "metadata": {},
   "source": [
    "## single-dimension"
   ]
  },
  {
   "cell_type": "code",
   "execution_count": 14,
   "metadata": {},
   "outputs": [
    {
     "data": {
      "text/plain": [
       "\n",
       " 1.0000\n",
       " 1.2500\n",
       " 1.5000\n",
       " 1.7500\n",
       " 2.0000\n",
       "[torch.FloatTensor of size 5]"
      ]
     },
     "execution_count": 14,
     "metadata": {},
     "output_type": "execute_result"
    }
   ],
   "source": [
    "torch.linspace(1, 2, steps=5)"
   ]
  },
  {
   "cell_type": "code",
   "execution_count": 15,
   "metadata": {},
   "outputs": [
    {
     "data": {
      "text/plain": [
       "\n",
       "   100.0000\n",
       "   316.2278\n",
       "  1000.0000\n",
       "  3162.2776\n",
       " 10000.0000\n",
       "[torch.FloatTensor of size 5]"
      ]
     },
     "execution_count": 15,
     "metadata": {},
     "output_type": "execute_result"
    }
   ],
   "source": [
    "torch.logspace(2, 4, steps=5)"
   ]
  },
  {
   "cell_type": "code",
   "execution_count": 16,
   "metadata": {
    "scrolled": false
   },
   "outputs": [
    {
     "data": {
      "text/plain": [
       "\n",
       "   100.0000\n",
       "   316.2278\n",
       "  1000.0000\n",
       "  3162.2776\n",
       " 10000.0000\n",
       "[torch.FloatTensor of size 5]"
      ]
     },
     "execution_count": 16,
     "metadata": {},
     "output_type": "execute_result"
    }
   ],
   "source": [
    "# equiavalent to \n",
    "torch.pow(10, torch.linspace(2, 4, steps=5))"
   ]
  },
  {
   "cell_type": "code",
   "execution_count": 17,
   "metadata": {
    "scrolled": false
   },
   "outputs": [
    {
     "data": {
      "text/plain": [
       "\n",
       " 3\n",
       " 4\n",
       " 5\n",
       " 6\n",
       " 7\n",
       " 8\n",
       " 9\n",
       "[torch.FloatTensor of size 7]"
      ]
     },
     "execution_count": 17,
     "metadata": {},
     "output_type": "execute_result"
    }
   ],
   "source": [
    "torch.arange(3, 10, 1)"
   ]
  },
  {
   "cell_type": "code",
   "execution_count": 18,
   "metadata": {},
   "outputs": [
    {
     "name": "stdout",
     "output_type": "stream",
     "text": [
      "\n",
      " 1\n",
      " 0\n",
      " 2\n",
      "[torch.LongTensor of size 3]\n",
      "\n",
      "\n",
      " 2\n",
      " 0\n",
      " 1\n",
      "[torch.LongTensor of size 3]\n",
      "\n",
      "\n",
      " 0\n",
      " 2\n",
      " 1\n",
      "[torch.LongTensor of size 3]\n",
      "\n"
     ]
    }
   ],
   "source": [
    "# random permutation form 0 ~ n-1\n",
    "for i in range (3):\n",
    "    print(torch.randperm(3))"
   ]
  },
  {
   "cell_type": "markdown",
   "metadata": {},
   "source": [
    "## Multi-dimension"
   ]
  },
  {
   "cell_type": "code",
   "execution_count": 19,
   "metadata": {
    "scrolled": true
   },
   "outputs": [
    {
     "data": {
      "text/plain": [
       "\n",
       " 1  0  0  0\n",
       " 0  1  0  0\n",
       " 0  0  1  0\n",
       "[torch.FloatTensor of size 3x4]"
      ]
     },
     "execution_count": 19,
     "metadata": {},
     "output_type": "execute_result"
    }
   ],
   "source": [
    "# identity\n",
    "torch.eye(3, 4)"
   ]
  },
  {
   "cell_type": "code",
   "execution_count": 20,
   "metadata": {},
   "outputs": [
    {
     "data": {
      "text/plain": [
       "\n",
       " 1  1  1  1\n",
       " 1  1  1  1\n",
       " 1  1  1  1\n",
       "[torch.FloatTensor of size 3x4]"
      ]
     },
     "execution_count": 20,
     "metadata": {},
     "output_type": "execute_result"
    }
   ],
   "source": [
    "# ones\n",
    "torch.ones(3, 4)"
   ]
  },
  {
   "cell_type": "code",
   "execution_count": 21,
   "metadata": {},
   "outputs": [
    {
     "data": {
      "text/plain": [
       "\n",
       " 0  0  0  0\n",
       " 0  0  0  0\n",
       " 0  0  0  0\n",
       "[torch.FloatTensor of size 3x4]"
      ]
     },
     "execution_count": 21,
     "metadata": {},
     "output_type": "execute_result"
    }
   ],
   "source": [
    "# zeros\n",
    "torch.zeros(3, 4)"
   ]
  },
  {
   "cell_type": "code",
   "execution_count": 22,
   "metadata": {},
   "outputs": [
    {
     "data": {
      "text/plain": [
       "\n",
       " 0.5482  0.1673  0.4417  0.2480\n",
       " 0.1520  0.4708  0.5714  0.8088\n",
       " 0.9241  0.7910  0.5336  0.3643\n",
       "[torch.FloatTensor of size 3x4]"
      ]
     },
     "execution_count": 22,
     "metadata": {},
     "output_type": "execute_result"
    }
   ],
   "source": [
    "# uniform distribution [0, 1]\n",
    "torch.rand(3, 4)"
   ]
  },
  {
   "cell_type": "code",
   "execution_count": 23,
   "metadata": {},
   "outputs": [
    {
     "data": {
      "text/plain": [
       "\n",
       "-0.4390 -0.5805  0.3718 -1.3076\n",
       "-1.1161 -0.7550  0.4029  0.6675\n",
       " 1.2080 -0.2456 -1.5431  1.3396\n",
       "[torch.FloatTensor of size 3x4]"
      ]
     },
     "execution_count": 23,
     "metadata": {},
     "output_type": "execute_result"
    }
   ],
   "source": [
    "# normal distribution N(0, 1)\n",
    "torch.randn(3, 4)"
   ]
  },
  {
   "cell_type": "markdown",
   "metadata": {},
   "source": [
    "# Shape transformation"
   ]
  },
  {
   "cell_type": "code",
   "execution_count": 24,
   "metadata": {},
   "outputs": [
    {
     "name": "stdout",
     "output_type": "stream",
     "text": [
      "\n",
      " 1  2\n",
      " 3  4\n",
      " 5  6\n",
      "[torch.FloatTensor of size 3x2]\n",
      "\n"
     ]
    }
   ],
   "source": [
    "# Base Tensor\n",
    "x = torch.Tensor([[1, 2], [3, 4], [5, 6]])\n",
    "print(x)"
   ]
  },
  {
   "cell_type": "markdown",
   "metadata": {},
   "source": [
    "## Join"
   ]
  },
  {
   "cell_type": "code",
   "execution_count": 25,
   "metadata": {
    "scrolled": true
   },
   "outputs": [
    {
     "data": {
      "text/plain": [
       "\n",
       " 1  2  1  2  1  2\n",
       " 3  4  3  4  3  4\n",
       " 5  6  5  6  5  6\n",
       "[torch.FloatTensor of size 3x6]"
      ]
     },
     "execution_count": 25,
     "metadata": {},
     "output_type": "execute_result"
    }
   ],
   "source": [
    "# Concatenate\n",
    "torch.cat((x, x, x), 1)"
   ]
  },
  {
   "cell_type": "code",
   "execution_count": 26,
   "metadata": {},
   "outputs": [
    {
     "data": {
      "text/plain": [
       "\n",
       " 1  2\n",
       " 3  4\n",
       " 5  6\n",
       "[torch.FloatTensor of size 3x2]"
      ]
     },
     "execution_count": 26,
     "metadata": {},
     "output_type": "execute_result"
    }
   ],
   "source": [
    "# Remove dim whose size is 1\n",
    "torch.squeeze(x.view(3, 1, 2), dim=1)"
   ]
  },
  {
   "cell_type": "code",
   "execution_count": 27,
   "metadata": {},
   "outputs": [
    {
     "data": {
      "text/plain": [
       "\n",
       "(0 ,.,.) = \n",
       "  1  2\n",
       "  1  2\n",
       "\n",
       "(1 ,.,.) = \n",
       "  3  4\n",
       "  3  4\n",
       "\n",
       "(2 ,.,.) = \n",
       "  5  6\n",
       "  5  6\n",
       "[torch.FloatTensor of size 3x2x2]"
      ]
     },
     "execution_count": 27,
     "metadata": {},
     "output_type": "execute_result"
    }
   ],
   "source": [
    "# Stack\n",
    "torch.stack([x, x], dim=1)"
   ]
  },
  {
   "cell_type": "markdown",
   "metadata": {},
   "source": [
    "## Split"
   ]
  },
  {
   "cell_type": "code",
   "execution_count": 28,
   "metadata": {
    "scrolled": true
   },
   "outputs": [
    {
     "data": {
      "text/plain": [
       "(\n",
       "  1  2\n",
       " [torch.FloatTensor of size 1x2], \n",
       "  3  4\n",
       " [torch.FloatTensor of size 1x2], \n",
       "  5  6\n",
       " [torch.FloatTensor of size 1x2])"
      ]
     },
     "execution_count": 28,
     "metadata": {},
     "output_type": "execute_result"
    }
   ],
   "source": [
    "# Split tensor into a number of chunks\n",
    "torch.chunk(x, chunks=3, dim=0)"
   ]
  },
  {
   "cell_type": "code",
   "execution_count": 29,
   "metadata": {},
   "outputs": [
    {
     "data": {
      "text/plain": [
       "(\n",
       "  1  2\n",
       " [torch.FloatTensor of size 1x2], \n",
       "  3  4\n",
       " [torch.FloatTensor of size 1x2], \n",
       "  5  6\n",
       " [torch.FloatTensor of size 1x2])"
      ]
     },
     "execution_count": 29,
     "metadata": {},
     "output_type": "execute_result"
    }
   ],
   "source": [
    "# Split tensor with given size\n",
    "torch.split(x, split_size=1, dim=0)"
   ]
  },
  {
   "cell_type": "markdown",
   "metadata": {},
   "source": [
    "## Index / Slice"
   ]
  },
  {
   "cell_type": "code",
   "execution_count": 30,
   "metadata": {},
   "outputs": [
    {
     "data": {
      "text/plain": [
       "4.0"
      ]
     },
     "execution_count": 30,
     "metadata": {},
     "output_type": "execute_result"
    }
   ],
   "source": [
    "# Pythonic indexing\n",
    "x[1, 1]"
   ]
  },
  {
   "cell_type": "code",
   "execution_count": 31,
   "metadata": {},
   "outputs": [
    {
     "data": {
      "text/plain": [
       "\n",
       " 1  2\n",
       " 3  4\n",
       "[torch.FloatTensor of size 2x2]"
      ]
     },
     "execution_count": 31,
     "metadata": {},
     "output_type": "execute_result"
    }
   ],
   "source": [
    "# Pythonic slicing\n",
    "x[:2]"
   ]
  },
  {
   "cell_type": "code",
   "execution_count": 32,
   "metadata": {
    "scrolled": false
   },
   "outputs": [
    {
     "data": {
      "text/plain": [
       "\n",
       " 3  4\n",
       " 3  4\n",
       "[torch.FloatTensor of size 2x2]"
      ]
     },
     "execution_count": 32,
     "metadata": {},
     "output_type": "execute_result"
    }
   ],
   "source": [
    "# Slicing with torch.LongTensor\n",
    "x[torch.LongTensor([1, 1])]"
   ]
  },
  {
   "cell_type": "code",
   "execution_count": 33,
   "metadata": {
    "scrolled": false
   },
   "outputs": [
    {
     "data": {
      "text/plain": [
       "\n",
       " 1  4\n",
       " 3  4\n",
       " 5  6\n",
       "[torch.FloatTensor of size 3x2]"
      ]
     },
     "execution_count": 33,
     "metadata": {},
     "output_type": "execute_result"
    }
   ],
   "source": [
    "# Gather values along axis specified by dim\n",
    "# index should have same shape with given tensor\n",
    "torch.gather(x, dim=0, index=torch.LongTensor([[0, 1], [1, 1], [2, 2]]))"
   ]
  },
  {
   "cell_type": "code",
   "execution_count": 34,
   "metadata": {
    "scrolled": true
   },
   "outputs": [
    {
     "data": {
      "text/plain": [
       "\n",
       " 5  6\n",
       " 1  2\n",
       "[torch.FloatTensor of size 2x2]"
      ]
     },
     "execution_count": 34,
     "metadata": {},
     "output_type": "execute_result"
    }
   ],
   "source": [
    "# Tensor which indexes given tensor using entries in index along given dimension\n",
    "torch.index_select(x, dim=0, index=torch.LongTensor([2, 0]))"
   ]
  },
  {
   "cell_type": "code",
   "execution_count": 35,
   "metadata": {},
   "outputs": [
    {
     "name": "stdout",
     "output_type": "stream",
     "text": [
      "\n",
      " 0  0\n",
      " 1  1\n",
      " 1  1\n",
      "[torch.ByteTensor of size 3x2]\n",
      "\n"
     ]
    }
   ],
   "source": [
    "mask = x.ge(3)\n",
    "print(mask)"
   ]
  },
  {
   "cell_type": "code",
   "execution_count": 36,
   "metadata": {},
   "outputs": [
    {
     "data": {
      "text/plain": [
       "\n",
       " 3\n",
       " 4\n",
       " 5\n",
       " 6\n",
       "[torch.FloatTensor of size 4]"
      ]
     },
     "execution_count": 36,
     "metadata": {},
     "output_type": "execute_result"
    }
   ],
   "source": [
    "# Masking\n",
    "torch.masked_select(x, mask=mask)"
   ]
  },
  {
   "cell_type": "code",
   "execution_count": 37,
   "metadata": {
    "scrolled": false
   },
   "outputs": [
    {
     "data": {
      "text/plain": [
       "\n",
       " 0  0\n",
       " 0  1\n",
       " 1  0\n",
       " 1  1\n",
       " 2  0\n",
       " 2  1\n",
       "[torch.LongTensor of size 6x2]"
      ]
     },
     "execution_count": 37,
     "metadata": {},
     "output_type": "execute_result"
    }
   ],
   "source": [
    "# Indices of non-zero elements\n",
    "torch.nonzero(x)"
   ]
  },
  {
   "cell_type": "markdown",
   "metadata": {},
   "source": [
    "## Transpose"
   ]
  },
  {
   "cell_type": "code",
   "execution_count": 38,
   "metadata": {},
   "outputs": [
    {
     "data": {
      "text/plain": [
       "\n",
       " 1  3  5\n",
       " 2  4  6\n",
       "[torch.FloatTensor of size 2x3]"
      ]
     },
     "execution_count": 38,
     "metadata": {},
     "output_type": "execute_result"
    }
   ],
   "source": [
    "# transpose dim0 <=> dim1\n",
    "torch.t(x)"
   ]
  },
  {
   "cell_type": "code",
   "execution_count": 39,
   "metadata": {
    "scrolled": true
   },
   "outputs": [
    {
     "data": {
      "text/plain": [
       "\n",
       " 1  3  5\n",
       " 2  4  6\n",
       "[torch.FloatTensor of size 2x3]"
      ]
     },
     "execution_count": 39,
     "metadata": {},
     "output_type": "execute_result"
    }
   ],
   "source": [
    "x.t()"
   ]
  },
  {
   "cell_type": "code",
   "execution_count": 40,
   "metadata": {},
   "outputs": [
    {
     "data": {
      "text/plain": [
       "\n",
       " 1  3  5\n",
       " 2  4  6\n",
       "[torch.FloatTensor of size 2x3]"
      ]
     },
     "execution_count": 40,
     "metadata": {},
     "output_type": "execute_result"
    }
   ],
   "source": [
    "# Change actual x\n",
    "x.t_()"
   ]
  },
  {
   "cell_type": "code",
   "execution_count": 41,
   "metadata": {
    "scrolled": true
   },
   "outputs": [
    {
     "data": {
      "text/plain": [
       "\n",
       " 1  2\n",
       " 3  4\n",
       " 5  6\n",
       "[torch.FloatTensor of size 3x2]"
      ]
     },
     "execution_count": 41,
     "metadata": {},
     "output_type": "execute_result"
    }
   ],
   "source": [
    "x.t_()"
   ]
  },
  {
   "cell_type": "code",
   "execution_count": 42,
   "metadata": {},
   "outputs": [
    {
     "data": {
      "text/plain": [
       "\n",
       " 1  3  5\n",
       " 2  4  6\n",
       "[torch.FloatTensor of size 2x3]"
      ]
     },
     "execution_count": 42,
     "metadata": {},
     "output_type": "execute_result"
    }
   ],
   "source": [
    "# transpose in general\n",
    "torch.transpose(x, 0, 1)"
   ]
  },
  {
   "cell_type": "markdown",
   "metadata": {},
   "source": [
    "## Expand"
   ]
  },
  {
   "cell_type": "code",
   "execution_count": 43,
   "metadata": {
    "scrolled": true
   },
   "outputs": [
    {
     "data": {
      "text/plain": [
       "\n",
       "(0 ,.,.) = \n",
       "  1\n",
       "  2\n",
       "\n",
       "(1 ,.,.) = \n",
       "  3\n",
       "  4\n",
       "\n",
       "(2 ,.,.) = \n",
       "  5\n",
       "  6\n",
       "[torch.FloatTensor of size 3x2x1]"
      ]
     },
     "execution_count": 43,
     "metadata": {},
     "output_type": "execute_result"
    }
   ],
   "source": [
    "# equivalent to np.expand_dims\n",
    "torch.unsqueeze(x, 2)"
   ]
  },
  {
   "cell_type": "code",
   "execution_count": 44,
   "metadata": {},
   "outputs": [
    {
     "data": {
      "text/plain": [
       "(\n",
       "  1\n",
       "  3\n",
       "  5\n",
       " [torch.FloatTensor of size 3], \n",
       "  2\n",
       "  4\n",
       "  6\n",
       " [torch.FloatTensor of size 3])"
      ]
     },
     "execution_count": 44,
     "metadata": {},
     "output_type": "execute_result"
    }
   ],
   "source": [
    "# Removes a tensor dimension and return a tuple along a given dimension without it\n",
    "torch.unbind(x, dim=1)"
   ]
  },
  {
   "cell_type": "markdown",
   "metadata": {},
   "source": [
    "# Multiplication"
   ]
  },
  {
   "cell_type": "code",
   "execution_count": 45,
   "metadata": {},
   "outputs": [
    {
     "data": {
      "text/plain": [
       "720.0"
      ]
     },
     "execution_count": 45,
     "metadata": {},
     "output_type": "execute_result"
    }
   ],
   "source": [
    "# Product of all elements in tensor\n",
    "x.prod()"
   ]
  },
  {
   "cell_type": "markdown",
   "metadata": {},
   "source": [
    "### cross product"
   ]
  },
  {
   "cell_type": "code",
   "execution_count": 46,
   "metadata": {
    "collapsed": true
   },
   "outputs": [],
   "source": [
    "a = torch.randn(4, 3)\n",
    "b = torch.randn(4, 3)"
   ]
  },
  {
   "cell_type": "code",
   "execution_count": 47,
   "metadata": {
    "scrolled": false
   },
   "outputs": [
    {
     "data": {
      "text/plain": [
       "\n",
       " 0.6614 -0.1255  1.8557\n",
       "-0.0602 -0.2957  0.0656\n",
       "-0.0576 -0.0473 -0.3084\n",
       "-2.8767 -1.4245 -3.9804\n",
       "[torch.FloatTensor of size 4x3]"
      ]
     },
     "execution_count": 47,
     "metadata": {},
     "output_type": "execute_result"
    }
   ],
   "source": [
    "# Size of dim should be 3\n",
    "torch.cross(a, b, dim=1)"
   ]
  },
  {
   "cell_type": "markdown",
   "metadata": {},
   "source": [
    "### dot product"
   ]
  },
  {
   "cell_type": "code",
   "execution_count": 48,
   "metadata": {},
   "outputs": [
    {
     "data": {
      "text/plain": [
       "3.601938247680664"
      ]
     },
     "execution_count": 48,
     "metadata": {},
     "output_type": "execute_result"
    }
   ],
   "source": [
    "torch.dot(a, b)"
   ]
  },
  {
   "cell_type": "markdown",
   "metadata": {},
   "source": [
    "### element-wise multiplication"
   ]
  },
  {
   "cell_type": "code",
   "execution_count": 49,
   "metadata": {
    "scrolled": true
   },
   "outputs": [
    {
     "data": {
      "text/plain": [
       "\n",
       " 2.2768 -0.2929  0.3091\n",
       "-0.8194 -0.0495 -3.3862\n",
       " 2.0303  0.0418  0.0530\n",
       " 3.2809 -1.0555  1.2135\n",
       "[torch.FloatTensor of size 4x3]"
      ]
     },
     "execution_count": 49,
     "metadata": {},
     "output_type": "execute_result"
    }
   ],
   "source": [
    "a * b"
   ]
  },
  {
   "cell_type": "markdown",
   "metadata": {},
   "source": [
    "### matrix multiplication"
   ]
  },
  {
   "cell_type": "code",
   "execution_count": 50,
   "metadata": {
    "collapsed": true
   },
   "outputs": [],
   "source": [
    "a = torch.randn(3, 5)\n",
    "b = torch.randn(5, 4)"
   ]
  },
  {
   "cell_type": "code",
   "execution_count": 51,
   "metadata": {},
   "outputs": [
    {
     "data": {
      "text/plain": [
       "\n",
       " 2.1250  0.7473 -1.4130  0.8634\n",
       "-0.4828 -1.1676  0.1900  1.0728\n",
       "-4.7546 -0.9469  2.5616 -1.3486\n",
       "[torch.FloatTensor of size 3x4]"
      ]
     },
     "execution_count": 51,
     "metadata": {},
     "output_type": "execute_result"
    }
   ],
   "source": [
    "torch.mm(a, b)"
   ]
  },
  {
   "cell_type": "code",
   "execution_count": 52,
   "metadata": {
    "scrolled": false
   },
   "outputs": [
    {
     "data": {
      "text/plain": [
       "\n",
       " 2.1250  0.7473 -1.4130  0.8634\n",
       "-0.4828 -1.1676  0.1900  1.0728\n",
       "-4.7546 -0.9469  2.5616 -1.3486\n",
       "[torch.FloatTensor of size 3x4]"
      ]
     },
     "execution_count": 52,
     "metadata": {},
     "output_type": "execute_result"
    }
   ],
   "source": [
    "# shortcut!\n",
    "a @ b"
   ]
  },
  {
   "cell_type": "markdown",
   "metadata": {},
   "source": [
    "## BLAS and LAPACK (batch-wise optimization)"
   ]
  },
  {
   "cell_type": "code",
   "execution_count": 53,
   "metadata": {
    "collapsed": true
   },
   "outputs": [],
   "source": [
    "batch1 = torch.randn(10, 3, 4)\n",
    "batch2 = torch.randn(10, 4, 5)"
   ]
  },
  {
   "cell_type": "code",
   "execution_count": 54,
   "metadata": {
    "scrolled": true
   },
   "outputs": [
    {
     "data": {
      "text/plain": [
       "\n",
       "(0 ,.,.) = \n",
       " -3.1372 -2.5920  0.4491 -0.9216  0.3370\n",
       " -1.7161 -1.2660  1.3222 -1.5081  0.6668\n",
       "  4.9531  5.3613  3.5293 -0.3050  0.6119\n",
       "\n",
       "(1 ,.,.) = \n",
       " -4.9520  2.9297 -2.9899 -2.4100 -0.9564\n",
       " -1.4554 -5.2249  3.6740 -4.9620  4.1953\n",
       " -2.7100  2.8103 -2.6156 -0.2189 -2.5156\n",
       "\n",
       "(2 ,.,.) = \n",
       "  1.0592 -0.7469 -1.4899  1.5285 -0.7665\n",
       "  1.9779 -0.3241 -0.3421 -0.6157 -0.6284\n",
       "  2.6636  0.0620 -0.6093 -0.8571 -0.8186\n",
       "\n",
       "(3 ,.,.) = \n",
       "  0.8135  0.2131 -2.2092 -0.0419  0.0644\n",
       "  1.6792  1.2087 -2.6431  0.4629  1.5592\n",
       "  3.7791  0.1014 -3.7083  0.6795 -0.9535\n",
       "\n",
       "(4 ,.,.) = \n",
       "  0.4660 -0.2704  0.0433 -0.7232  0.6402\n",
       " -0.1155  0.3721 -1.3450 -0.6934 -0.7450\n",
       "  0.1589 -0.9150  0.7441 -0.4727  0.5903\n",
       "\n",
       "(5 ,.,.) = \n",
       " -0.1406  0.1873  0.7304  2.0136  0.5375\n",
       "  1.0889  0.1350 -0.1129 -1.1020 -0.4012\n",
       "  0.1141 -2.0517 -0.4223 -4.5986 -1.7827\n",
       "\n",
       "(6 ,.,.) = \n",
       " -2.2487 -0.9054 -2.3793  0.8058  1.8223\n",
       " -0.4171  1.0994 -0.1272  3.7931  1.4096\n",
       "  3.2268 -0.0894  2.2397 -2.5641 -2.7682\n",
       "\n",
       "(7 ,.,.) = \n",
       "  0.3974  0.1337  1.0514  2.9079  0.5264\n",
       " -5.9294 -0.2948 -1.7977 -4.2025  1.5887\n",
       " -2.1536  0.9680 -1.0432 -0.2554  1.6021\n",
       "\n",
       "(8 ,.,.) = \n",
       " -0.2810 -0.6876  1.7877  0.2162  1.0318\n",
       " -0.0237  0.6798 -2.7415 -1.1766 -2.5436\n",
       " -1.6332 -1.6351  1.4244  1.3769 -0.6036\n",
       "\n",
       "(9 ,.,.) = \n",
       " -2.0200 -3.6021 -0.5265  0.9962 -2.1433\n",
       "  1.6121  0.1949 -1.6965  3.1477  1.7372\n",
       " -2.6731 -4.4612  1.7627  0.5898 -2.4661\n",
       "[torch.FloatTensor of size 10x3x5]"
      ]
     },
     "execution_count": 54,
     "metadata": {},
     "output_type": "execute_result"
    }
   ],
   "source": [
    "# Batch matrix multiplication\n",
    "torch.bmm(batch1, batch2)"
   ]
  },
  {
   "cell_type": "code",
   "execution_count": 55,
   "metadata": {
    "scrolled": true
   },
   "outputs": [
    {
     "data": {
      "text/plain": [
       "\n",
       "(0 ,.,.) = \n",
       " -3.1372 -2.5920  0.4491 -0.9216  0.3370\n",
       " -1.7161 -1.2660  1.3222 -1.5081  0.6668\n",
       "  4.9531  5.3613  3.5293 -0.3050  0.6119\n",
       "\n",
       "(1 ,.,.) = \n",
       " -4.9520  2.9297 -2.9899 -2.4100 -0.9564\n",
       " -1.4554 -5.2249  3.6740 -4.9620  4.1953\n",
       " -2.7100  2.8103 -2.6156 -0.2189 -2.5156\n",
       "\n",
       "(2 ,.,.) = \n",
       "  1.0592 -0.7469 -1.4899  1.5285 -0.7665\n",
       "  1.9779 -0.3241 -0.3421 -0.6157 -0.6284\n",
       "  2.6636  0.0620 -0.6093 -0.8571 -0.8186\n",
       "\n",
       "(3 ,.,.) = \n",
       "  0.8135  0.2131 -2.2092 -0.0419  0.0644\n",
       "  1.6792  1.2087 -2.6431  0.4629  1.5592\n",
       "  3.7791  0.1014 -3.7083  0.6795 -0.9535\n",
       "\n",
       "(4 ,.,.) = \n",
       "  0.4660 -0.2704  0.0433 -0.7232  0.6402\n",
       " -0.1155  0.3721 -1.3450 -0.6934 -0.7450\n",
       "  0.1589 -0.9150  0.7441 -0.4727  0.5903\n",
       "\n",
       "(5 ,.,.) = \n",
       " -0.1406  0.1873  0.7304  2.0136  0.5375\n",
       "  1.0889  0.1350 -0.1129 -1.1020 -0.4012\n",
       "  0.1141 -2.0517 -0.4223 -4.5986 -1.7827\n",
       "\n",
       "(6 ,.,.) = \n",
       " -2.2487 -0.9054 -2.3793  0.8058  1.8223\n",
       " -0.4171  1.0994 -0.1272  3.7931  1.4096\n",
       "  3.2268 -0.0894  2.2397 -2.5641 -2.7682\n",
       "\n",
       "(7 ,.,.) = \n",
       "  0.3974  0.1337  1.0514  2.9079  0.5264\n",
       " -5.9294 -0.2948 -1.7977 -4.2025  1.5887\n",
       " -2.1536  0.9680 -1.0432 -0.2554  1.6021\n",
       "\n",
       "(8 ,.,.) = \n",
       " -0.2810 -0.6876  1.7877  0.2162  1.0318\n",
       " -0.0237  0.6798 -2.7415 -1.1766 -2.5436\n",
       " -1.6332 -1.6351  1.4244  1.3769 -0.6036\n",
       "\n",
       "(9 ,.,.) = \n",
       " -2.0200 -3.6021 -0.5265  0.9962 -2.1433\n",
       "  1.6121  0.1949 -1.6965  3.1477  1.7372\n",
       " -2.6731 -4.4612  1.7627  0.5898 -2.4661\n",
       "[torch.FloatTensor of size 10x3x5]"
      ]
     },
     "execution_count": 55,
     "metadata": {},
     "output_type": "execute_result"
    }
   ],
   "source": [
    "# equivalent to\n",
    "torch.baddbmm(torch.zeros(10, 3, 5), batch1, batch2)"
   ]
  },
  {
   "cell_type": "code",
   "execution_count": 56,
   "metadata": {},
   "outputs": [
    {
     "data": {
      "text/plain": [
       "\n",
       "-10.0433  -5.3407  -5.5329   4.3714   1.0934\n",
       " -3.2990  -3.4200  -5.8097  -6.8565   6.8386\n",
       "  5.7258   0.1506   1.3014  -6.6255  -9.1038\n",
       "[torch.FloatTensor of size 3x5]"
      ]
     },
     "execution_count": 56,
     "metadata": {},
     "output_type": "execute_result"
    }
   ],
   "source": [
    "# Sum of matrix multiplication along batches\n",
    "sum_tensor = torch.zeros(3, 5)\n",
    "for i in range(10):\n",
    "    sum_tensor += torch.mm(batch1[i], batch2[i])\n",
    "torch.zeros(3, 5) + sum_tensor"
   ]
  },
  {
   "cell_type": "code",
   "execution_count": 57,
   "metadata": {},
   "outputs": [
    {
     "data": {
      "text/plain": [
       "\n",
       "-10.0433  -5.3407  -5.5329   4.3714   1.0934\n",
       " -3.2990  -3.4200  -5.8097  -6.8565   6.8386\n",
       "  5.7258   0.1506   1.3014  -6.6255  -9.1038\n",
       "[torch.FloatTensor of size 3x5]"
      ]
     },
     "execution_count": 57,
     "metadata": {},
     "output_type": "execute_result"
    }
   ],
   "source": [
    "# equivalent to\n",
    "torch.squeeze(torch.sum(torch.bmm(batch1, batch2), 0))"
   ]
  },
  {
   "cell_type": "code",
   "execution_count": 58,
   "metadata": {
    "scrolled": true
   },
   "outputs": [
    {
     "data": {
      "text/plain": [
       "\n",
       "-10.0433  -5.3407  -5.5329   4.3714   1.0934\n",
       " -3.2990  -3.4200  -5.8097  -6.8565   6.8386\n",
       "  5.7258   0.1506   1.3014  -6.6255  -9.1038\n",
       "[torch.FloatTensor of size 3x5]"
      ]
     },
     "execution_count": 58,
     "metadata": {},
     "output_type": "execute_result"
    }
   ],
   "source": [
    "# equivalent to\n",
    "torch.addbmm(torch.zeros(3, 5), batch1, batch2)"
   ]
  }
 ],
 "metadata": {
  "anaconda-cloud": {},
  "kernelspec": {
   "display_name": "Python [conda env:mldemo]",
   "language": "python",
   "name": "conda-env-mldemo-py"
  },
  "language_info": {
   "codemirror_mode": {
    "name": "ipython",
    "version": 3
   },
   "file_extension": ".py",
   "mimetype": "text/x-python",
   "name": "python",
   "nbconvert_exporter": "python",
   "pygments_lexer": "ipython3",
   "version": "3.6.0"
  }
 },
 "nbformat": 4,
 "nbformat_minor": 2
}
